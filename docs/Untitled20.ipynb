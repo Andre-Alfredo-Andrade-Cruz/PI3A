{
  "nbformat": 4,
  "nbformat_minor": 0,
  "metadata": {
    "colab": {
      "name": "Untitled20.ipynb",
      "provenance": [],
      "collapsed_sections": []
    },
    "kernelspec": {
      "name": "python3",
      "display_name": "Python 3"
    },
    "language_info": {
      "name": "python"
    }
  },
  "cells": [
    {
      "cell_type": "code",
      "execution_count": null,
      "metadata": {
        "id": "C0e-SYTYFVCN"
      },
      "outputs": [],
      "source": [
        "!pip install pandas"
      ]
    },
    {
      "cell_type": "code",
      "source": [
        "import pandas as pd\n",
        "import numpy as np\n",
        "import re"
      ],
      "metadata": {
        "id": "o1nH8VouP_LT"
      },
      "execution_count": 2,
      "outputs": []
    },
    {
      "cell_type": "code",
      "source": [
        "df = pd.read_csv('twitterSlang.csv')\n",
        "\n",
        "print(df.to_string())\n",
        "\n",
        "#df1 = pd.read_csv('twitterSlang2.csv', encoding='cp1252')\n",
        "#print(df1.to_string())"
      ],
      "metadata": {
        "id": "mWiIu372QD0y"
      },
      "execution_count": null,
      "outputs": []
    },
    {
      "cell_type": "code",
      "source": [
        "slang = df['slang'].tolist()\n",
        "translation = df['formal_translation'].tolist()"
      ],
      "metadata": {
        "id": "-YPIIFx1QLTm"
      },
      "execution_count": 4,
      "outputs": []
    },
    {
      "cell_type": "code",
      "source": [
        "dataset = [\n",
        "  'if you guys are bummed abt the owl house hiatus and amphibia ending may i introduce to you dead end paranormal park',\n",
        "  'people who dont get motion sick how does it feel to be god',\n",
        "  'Must u guys eat on dates what about going hiking golfing taking walks in scenic areas',\n",
        "  'Happy bday to Hua Cheng',\n",
        "  'Sephiroth walking is too weird for me i feel like hed be the type of guy whod levitate everywhere',\n",
        "  'lmao elizabeth olsen supremacy tho'\n",
        "]"
      ],
      "metadata": {
        "id": "7Jo3xABpa8py"
      },
      "execution_count": 7,
      "outputs": []
    },
    {
      "cell_type": "code",
      "source": [
        "for idz,z in enumerate(dataset):\n",
        "  txt = re.sub(\"[^\\w]\", \" \",  dataset[idz]).split()\n",
        "  for idx,x in enumerate(txt):\n",
        "    for idy,y in enumerate(slang):\n",
        "      if txt[idx] in slang[idy]:\n",
        "        print('A tradução da gíria {} é {}'.format(slang[idy], translation[idy]))\n",
        "      else:\n",
        "        print('Não foram encontradas gírias :o!')"
      ],
      "metadata": {
        "id": "f0J72nU5QPIL"
      },
      "execution_count": null,
      "outputs": []
    },
    {
      "cell_type": "code",
      "source": [
        "txt = ['people', 'who', 'dont', 'get', 'motion', 'sick', 'how', 'does', 'it', 'feel', 'to', 'be', 'god']\n",
        "for idx,x in enumerate(txt):\n",
        "    for idy,y in enumerate(slang):\n",
        "      if txt[idx] in slang[idy]:\n",
        "        print('A tradução da gíria {} é {}'.format(slang[idy], translation[idy]))\n",
        "      else:\n",
        "        print('Não foram encontradas gírias :o!')"
      ],
      "metadata": {
        "id": "lBYzgXGXit0E"
      },
      "execution_count": null,
      "outputs": []
    },
    {
      "cell_type": "code",
      "source": [
        "for idz,z in enumerate(dataset):\n",
        "  txt = re.sub(\"[^\\w]\", \" \",  dataset[idz]).split()\n",
        "  print(txt)"
      ],
      "metadata": {
        "id": "my6yE_8hfWhW"
      },
      "execution_count": null,
      "outputs": []
    },
    {
      "cell_type": "code",
      "source": [
        "from flask import Flask, jsonify\n",
        "\n",
        "app = Flask(__name__)\n",
        "\n",
        "@app.route('/')\n",
        "def hello_world():\n",
        "    json_file = {}\n",
        "    json_file['query'] = 'hello_world'\n",
        "    return jsonify(json_file)\n",
        "    #return 'Hello World!'\n",
        "\n",
        "if __name__ == '__main__':\n",
        "    app.run()"
      ],
      "metadata": {
        "id": "YZkqw1y0guw6"
      },
      "execution_count": null,
      "outputs": []
    },
    {
      "cell_type": "code",
      "source": [
        "xs = 'bleu bleu'\n",
        "for idx, x in enumerate(txt):\n",
        "    print(txt[idx])\n",
        "    print(len(txt))"
      ],
      "metadata": {
        "id": "GZPHEM0IRkXx"
      },
      "execution_count": null,
      "outputs": []
    },
    {
      "cell_type": "code",
      "source": [
        "import re\n",
        "\n",
        "txt = 'I think abt you'\n",
        "wordList = re.sub(\"[^\\w]\", \" \",  txt).split()\n",
        "len(wordList)"
      ],
      "metadata": {
        "colab": {
          "base_uri": "https://localhost:8080/"
        },
        "id": "TV28zkQgYfzd",
        "outputId": "f0d024b9-4aec-4de6-ff43-d8055ff0f0c9"
      },
      "execution_count": 13,
      "outputs": [
        {
          "output_type": "execute_result",
          "data": {
            "text/plain": [
              "4"
            ]
          },
          "metadata": {},
          "execution_count": 13
        }
      ]
    }
  ]
}